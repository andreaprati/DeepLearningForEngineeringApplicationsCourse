{
 "cells": [
  {
   "cell_type": "code",
   "execution_count": 1,
   "id": "3737d16b-ed89-4716-8803-9647e606f856",
   "metadata": {},
   "outputs": [
    {
     "name": "stderr",
     "output_type": "stream",
     "text": [
      "C:\\miniconda3\\envs\\pytorch\\lib\\site-packages\\tqdm\\auto.py:22: TqdmWarning: IProgress not found. Please update jupyter and ipywidgets. See https://ipywidgets.readthedocs.io/en/stable/user_install.html\n",
      "  from .autonotebook import tqdm as notebook_tqdm\n"
     ]
    }
   ],
   "source": [
    "import torch\n",
    "import torchvision\n",
    "import torch.nn as nn\n",
    "import torch.nn.functional as F\n",
    "import torch.optim as optim\n",
    "from torchvision import datasets, transforms\n",
    "import matplotlib.pyplot as plt\n",
    "import numpy as np\n",
    "\n",
    "from res.plot_lib import plot_data, plot_data_np, plot_model, set_default\n",
    "set_default()"
   ]
  },
  {
   "cell_type": "code",
   "execution_count": 2,
   "id": "83e3de93-76a8-4345-b116-0939becb273e",
   "metadata": {},
   "outputs": [],
   "source": [
    "# Load MNIST dataset\n",
    "# TRAIN dataset\n",
    "# Pytorch already has some datasets available for downlaod\n",
    "train_dataset = datasets.MNIST('../data', train=True, download=True, \n",
    "                # transforms that we want to apply when iterating the dataset\n",
    "                   transform=transforms.ToTensor())\n",
    "\n",
    "# The datasoar will iterate through the dataset and load the data in memory\n",
    "train_loader = torch.utils.data.DataLoader(\n",
    "                        train_dataset,\n",
    "                        batch_size=64, shuffle=True)\n",
    "\n",
    "# TEST dataset\n",
    "test_loader = torch.utils.data.DataLoader(\n",
    "    datasets.MNIST('../data', train=False, \n",
    "                   transform=transforms.ToTensor()),\n",
    "                    batch_size=1000, shuffle=True)"
   ]
  },
  {
   "cell_type": "code",
   "execution_count": 3,
   "id": "d288c45d-2b06-4568-9142-0f6a286cb1e5",
   "metadata": {},
   "outputs": [],
   "source": [
    "# set device\n",
    "device = torch.device(\"cuda:0\" if torch.cuda.is_available() else \"cpu\")"
   ]
  },
  {
   "cell_type": "code",
   "execution_count": 4,
   "id": "3b8d834b-4869-44cb-8203-137ae346f01a",
   "metadata": {},
   "outputs": [
    {
     "name": "stdout",
     "output_type": "stream",
     "text": [
      "AE_Denoiser(\n",
      "  (Encoder): Sequential(\n",
      "    (0): Conv2d(1, 64, kernel_size=(3, 3), stride=(2, 2), padding=(1, 1))\n",
      "    (1): ReLU()\n",
      "    (2): Conv2d(64, 64, kernel_size=(4, 4), stride=(1, 1))\n",
      "    (3): ReLU()\n",
      "    (4): Flatten(start_dim=1, end_dim=-1)\n",
      "  )\n",
      "  (Decoder): Sequential(\n",
      "    (0): ConvTranspose2d(64, 64, kernel_size=(4, 4), stride=(1, 1))\n",
      "    (1): ReLU()\n",
      "    (2): ConvTranspose2d(64, 32, kernel_size=(3, 3), stride=(2, 2), padding=(1, 1))\n",
      "    (3): ReLU()\n",
      "    (4): ConvTranspose2d(32, 16, kernel_size=(4, 4), stride=(2, 2), padding=(1, 1))\n",
      "    (5): ReLU()\n",
      "    (6): ConvTranspose2d(16, 1, kernel_size=(4, 4), stride=(2, 2), padding=(1, 1))\n",
      "    (7): Sigmoid()\n",
      "  )\n",
      ")\n"
     ]
    }
   ],
   "source": [
    "# Let's define our AE for denoising\n",
    "\n",
    "# define the NN architecture\n",
    "class AE_Denoiser(nn.Module):\n",
    "    def __init__(self, latent_size = 64):\n",
    "        super(AE_Denoiser, self).__init__()\n",
    "        \n",
    "        self.latent_size = latent_size\n",
    "        \n",
    "        ## encoder ##\n",
    "        # x.size() = bs, 1, 7, 7 -> bs, latent_size\n",
    "        self.Encoder = nn.Sequential(   nn.Conv2d(1, 64, 3, stride = 2, padding=1), #64x4x4\n",
    "                                        nn.ReLU(),\n",
    "                                        nn.Conv2d(64, self.latent_size, 4, stride = 1, padding=0), #64x1x1\n",
    "                                        nn.ReLU(), \n",
    "                                        nn.Flatten())  #latent_size\n",
    "        \n",
    "        ## decoder ##\n",
    "        # x.size() = bs, latent_size, 1, 1 -> bs, 1, 28, 28\n",
    "        self.Decoder = nn.Sequential(nn.ConvTranspose2d( self.latent_size, 64, 4, 1, 0), #4x4  (W - 1)S -2P + (K - 1) + 1\n",
    "                                    nn.ReLU(),\n",
    "                                    nn.ConvTranspose2d( 64, 32, 3, 2, 1), #7x7\n",
    "                                    nn.ReLU(),\n",
    "                                    nn.ConvTranspose2d( 32, 16, 4, 2, 1), #14x14\n",
    "                                    nn.ReLU(),\n",
    "                                    nn.ConvTranspose2d( 16, 1, 4, 2, 1), #28x28\n",
    "                                    nn.Sigmoid())\n",
    "\n",
    "\n",
    "    def forward(self, x):\n",
    "        ## encode ##\n",
    "        latent = self.Encoder(x)  # compressed representation\n",
    "        \n",
    "        ## decode ##\n",
    "        x = self.Decoder(latent.view(x.size(0),self.latent_size,1,1))\n",
    "        \n",
    "        return x, latent\n",
    "\n",
    "    \n",
    "ae = AE_Denoiser().to(device)\n",
    "print(ae)"
   ]
  },
  {
   "cell_type": "code",
   "execution_count": 5,
   "id": "61dc2d2a-2e5b-41a3-bda1-bcf7499a9802",
   "metadata": {},
   "outputs": [],
   "source": [
    "# define Optimizer and Loss\n",
    "optimizer = torch.optim.Adam(ae.parameters(), lr=0.001)\n",
    "\n",
    "# as loss lets use MSE\n",
    "mse_loss = nn.MSELoss()"
   ]
  },
  {
   "cell_type": "code",
   "execution_count": 6,
   "id": "d68a7ec5-05a0-40ff-b871-3643b87d8ade",
   "metadata": {},
   "outputs": [
    {
     "name": "stdout",
     "output_type": "stream",
     "text": [
      "Train Epoch: 0 [0/60000 (0%)]\tLoss: 0.208383\n",
      "Train Epoch: 0 [12800/60000 (21%)]\tLoss: 0.064212\n",
      "Train Epoch: 0 [25600/60000 (43%)]\tLoss: 0.037253\n",
      "Train Epoch: 0 [38400/60000 (64%)]\tLoss: 0.035485\n",
      "Train Epoch: 0 [51200/60000 (85%)]\tLoss: 0.031902\n",
      "Train Epoch: 1 [0/60000 (0%)]\tLoss: 0.030932\n",
      "Train Epoch: 1 [12800/60000 (21%)]\tLoss: 0.028228\n",
      "Train Epoch: 1 [25600/60000 (43%)]\tLoss: 0.033011\n",
      "Train Epoch: 1 [38400/60000 (64%)]\tLoss: 0.027522\n",
      "Train Epoch: 1 [51200/60000 (85%)]\tLoss: 0.026043\n",
      "Train Epoch: 2 [0/60000 (0%)]\tLoss: 0.026941\n",
      "Train Epoch: 2 [12800/60000 (21%)]\tLoss: 0.024250\n",
      "Train Epoch: 2 [25600/60000 (43%)]\tLoss: 0.025945\n",
      "Train Epoch: 2 [38400/60000 (64%)]\tLoss: 0.026197\n",
      "Train Epoch: 2 [51200/60000 (85%)]\tLoss: 0.026408\n"
     ]
    }
   ],
   "source": [
    "# TRAIN!!!\n",
    "\n",
    "ae.train()\n",
    "\n",
    "for epoch in range(3):\n",
    "    for batch_idx, (data, target) in enumerate(train_loader):\n",
    "        # send to device\n",
    "        data = data.to(device) #bs,1,28,28\n",
    "        \n",
    "        # reduce input size\n",
    "        small_data = nn.functional.interpolate(data, size=(7,7))\n",
    "        \n",
    "        optimizer.zero_grad()\n",
    "        output, latent = ae(small_data)\n",
    "        # loss between the output of AE and original data\n",
    "        loss = mse_loss(output, data)\n",
    "        loss.backward()\n",
    "        optimizer.step()\n",
    "        if batch_idx % 200 == 0:\n",
    "            print('Train Epoch: {} [{}/{} ({:.0f}%)]\\tLoss: {:.6f}'.format(\n",
    "                epoch, batch_idx * len(data), len(train_loader.dataset),\n",
    "                100. * batch_idx / len(train_loader), loss.item()))\n",
    "    \n",
    "    torch.save(ae.state_dict(), \"./res/super_res_ae.pth\")"
   ]
  },
  {
   "cell_type": "code",
   "execution_count": 7,
   "id": "27a3951c-c41e-4d4e-aad2-918f0a418395",
   "metadata": {},
   "outputs": [],
   "source": [
    "# TEST\n",
    "image, target = next(iter(test_loader)) # load one batch\n",
    "image = image.to(device)\n",
    "small_image = nn.functional.interpolate(image, size=(7,7))\n",
    "\n",
    "ae.eval()\n",
    "with torch.no_grad():\n",
    "    big_out, latent = ae(small_image)"
   ]
  },
  {
   "cell_type": "code",
   "execution_count": 9,
   "id": "c080391e-9b03-4f54-8bf6-9c7d3c394a01",
   "metadata": {},
   "outputs": [
    {
     "data": {
      "text/plain": [
       "(-0.5, 241.5, 31.5, -0.5)"
      ]
     },
     "execution_count": 9,
     "metadata": {},
     "output_type": "execute_result"
    },
    {
     "data": {
      "image/png": "[encoded data removed]",
      "text/plain": [
       "<Figure size 1000x1000 with 1 Axes>"
      ]
     },
     "metadata": {},
     "output_type": "display_data"
    }
   ],
   "source": [
    "to_pil = transforms.ToPILImage()\n",
    "\n",
    "image_grid = torchvision.utils.make_grid(image[:8])\n",
    "plt.imshow(to_pil(image_grid))\n",
    "plt.axis(\"off\")"
   ]
  },
  {
   "cell_type": "code",
   "execution_count": 10,
   "id": "bc0fc000-9e2c-4589-a55a-46cbfae0ec29",
   "metadata": {},
   "outputs": [
    {
     "data": {
      "text/plain": [
       "(-0.5, 73.5, 10.5, -0.5)"
      ]
     },
     "execution_count": 10,
     "metadata": {},
     "output_type": "execute_result"
    },
    {
     "data": {
      "image/png": "[encoded data removed]",
      "text/plain": [
       "<Figure size 1000x1000 with 1 Axes>"
      ]
     },
     "metadata": {},
     "output_type": "display_data"
    }
   ],
   "source": [
    "image_grid = torchvision.utils.make_grid(small_image[:8])\n",
    "plt.imshow(to_pil(image_grid))\n",
    "plt.axis(\"off\")"
   ]
  },
  {
   "cell_type": "code",
   "execution_count": 11,
   "id": "684d7091-d63c-4218-a180-9e7c51d3b72d",
   "metadata": {},
   "outputs": [
    {
     "data": {
      "text/plain": [
       "(-0.5, 241.5, 31.5, -0.5)"
      ]
     },
     "execution_count": 11,
     "metadata": {},
     "output_type": "execute_result"
    },
    {
     "data": {
      "image/png": "[encoded data removed]",
      "text/plain": [
       "<Figure size 1000x1000 with 1 Axes>"
      ]
     },
     "metadata": {},
     "output_type": "display_data"
    }
   ],
   "source": [
    "image_grid = torchvision.utils.make_grid(big_out[:8])\n",
    "plt.imshow(to_pil(image_grid))\n",
    "plt.axis(\"off\")"
   ]
  },
  {
   "cell_type": "code",
   "execution_count": null,
   "id": "f3c9ea31-5e95-4c2c-8ab7-39df9a4dc826",
   "metadata": {},
   "outputs": [],
   "source": []
  }
 ],
 "metadata": {
  "kernelspec": {
   "display_name": "Python 3",
   "language": "python",
   "name": "python3"
  },
  "language_info": {
   "codemirror_mode": {
    "name": "ipython",
    "version": 3
   },
   "file_extension": ".py",
   "mimetype": "text/x-python",
   "name": "python",
   "nbconvert_exporter": "python",
   "pygments_lexer": "ipython3",
   "version": "3.10.4"
  }
 },
 "nbformat": 4,
 "nbformat_minor": 5
}
