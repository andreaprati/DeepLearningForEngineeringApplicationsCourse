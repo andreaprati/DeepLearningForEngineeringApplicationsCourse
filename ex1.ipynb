{
 "cells": [
  {
   "cell_type": "markdown",
   "id": "8b718ac4-2466-44af-b8fd-1be5b2547738",
   "metadata": {},
   "source": [
    "# First steps into Pytorch\n",
    "for more details: https://pytorch.org/docs/stable/index.html"
   ]
  },
  {
   "cell_type": "code",
   "execution_count": 45,
   "id": "6173c1ac-e057-46b0-ade9-1ad3c3dd5f0d",
   "metadata": {
    "tags": []
   },
   "outputs": [],
   "source": [
    "#Let's start by importing the library\n",
    "import torch"
   ]
  },
  {
   "cell_type": "markdown",
   "id": "e5561279-a8a7-4cb5-bc7f-fc18b6f08c20",
   "metadata": {},
   "source": [
    "A <code>torch.Tensor</code> is a multi-dimensional matrix containing elements of a single data type."
   ]
  },
  {
   "cell_type": "code",
   "execution_count": 66,
   "id": "dcd7b201-e8bf-4a2e-9e0c-596ddfc35dd8",
   "metadata": {
    "tags": []
   },
   "outputs": [
    {
     "name": "stdout",
     "output_type": "stream",
     "text": [
      "torch.Size([2, 2, 4])\n",
      "torch.Size([2, 2, 4])\n"
     ]
    }
   ],
   "source": [
    "# Generate a Tensor of size 2x2x4\n",
    "t = torch.Tensor(2,2,4)\n",
    "# .size() allows to get the size of the tensor\n",
    "print(t.size())\n",
    "# also .shape do the same\n",
    "print(t.shape)"
   ]
  },
  {
   "cell_type": "code",
   "execution_count": 47,
   "id": "6d1a60cb-21f6-4ff2-a8a9-669029cd94ab",
   "metadata": {
    "tags": []
   },
   "outputs": [],
   "source": [
    "# Generate a tensor filled with random numbers \n",
    "# from a normal distribution with mean 0 and variance 1 \n",
    "# with the same size\n",
    "t_r = torch.randn(2,2,4)\n",
    "# and a tensor filled with ones\n",
    "t_ones = torch.ones(2,2,4)"
   ]
  },
  {
   "cell_type": "code",
   "execution_count": 48,
   "id": "39fe3992-19ed-4588-ba74-7eb44f8c07d8",
   "metadata": {
    "tags": []
   },
   "outputs": [
    {
     "name": "stdout",
     "output_type": "stream",
     "text": [
      "tensor([[[4.2764e+07, 1.3267e+31, 2.8183e+20, 7.3997e+20],\n",
      "         [4.5093e+27, 7.6831e+31, 1.9603e-19, 1.9432e-19]],\n",
      "\n",
      "        [[4.4845e+30, 2.8085e+17, 2.9390e+29, 2.0705e-19],\n",
      "         [4.4721e+21, 1.4580e-19, 7.3313e+22, 1.8471e+25]]]) tensor([[[-1.6375, -1.2219,  0.6147,  0.3442],\n",
      "         [-0.0294, -0.7361, -1.0921,  1.2164]],\n",
      "\n",
      "        [[ 0.3358, -0.3005, -1.1849,  1.4342],\n",
      "         [-1.8888,  1.1354, -1.2108, -0.4409]]]) tensor([[[1., 1., 1., 1.],\n",
      "         [1., 1., 1., 1.]],\n",
      "\n",
      "        [[1., 1., 1., 1.],\n",
      "         [1., 1., 1., 1.]]])\n"
     ]
    }
   ],
   "source": [
    "# Print the tensors\n",
    "print(t, t_r, t_ones)"
   ]
  },
  {
   "cell_type": "code",
   "execution_count": 49,
   "id": "614832d1-6fbf-4295-83aa-c58fe84b83a0",
   "metadata": {},
   "outputs": [
    {
     "name": "stdout",
     "output_type": "stream",
     "text": [
      "torch.Size([4, 4])\n"
     ]
    }
   ],
   "source": [
    "# To resize a tensor do\n",
    "t.resize_(4,4)\n",
    "print(t.size())\n",
    "# be CAREFULL with in-place operations like this one\n",
    "# since they will permanently change the tensor"
   ]
  },
  {
   "cell_type": "code",
   "execution_count": 50,
   "id": "416c3840-81a4-45a0-90fa-856170e37619",
   "metadata": {},
   "outputs": [
    {
     "name": "stdout",
     "output_type": "stream",
     "text": [
      "torch.Size([4, 4]) torch.Size([2, 2])\n"
     ]
    }
   ],
   "source": [
    "# It is better to firstly clone the tensor and then resize it\n",
    "t_c = t.clone()\n",
    "t_c.resize_(2,2)\n",
    "# so that the original one remains untouched\n",
    "print(t.size(), t_c.size())"
   ]
  },
  {
   "cell_type": "code",
   "execution_count": 74,
   "id": "e5361261",
   "metadata": {},
   "outputs": [
    {
     "name": "stdout",
     "output_type": "stream",
     "text": [
      "torch.Size([3, 4])\n",
      "tensor([[1., 1., 1., 1., 2., 2., 2., 2., 3., 3., 3., 3.]])\n",
      "tensor([[1., 1., 1., 1., 2., 2., 2., 2., 3., 3., 3., 3.]])\n",
      "tensor([1., 1., 1., 1., 2., 2., 2., 2., 3., 3., 3., 3.])\n",
      "tensor([[1., 1., 1., 1., 2., 2.],\n",
      "        [2., 2., 3., 3., 3., 3.]])\n",
      "tensor([[1., 1., 1., 1.],\n",
      "        [2., 2., 2., 2.],\n",
      "        [3., 3., 3., 3.]])\n"
     ]
    }
   ],
   "source": [
    "# Reshaping tensors\n",
    "t = torch.tensor([\n",
    "    [1,1,1,1],\n",
    "    [2,2,2,2],\n",
    "    [3,3,3,3]\n",
    "], dtype=torch.float32) # dtype allows to define the type of the elements of the tensors\n",
    "print(t.shape)\n",
    "print(t.reshape([1,12]))\n",
    "print(t.reshape([1,-1]))    # same as above\n",
    "print(t.reshape([1,12]).squeeze())           # same as above, but flattened\n",
    "print(t.reshape([2,6]))\n",
    "print(t.reshape([3,4]))\n"
   ]
  },
  {
   "cell_type": "code",
   "execution_count": 51,
   "id": "bdbd8054-a006-4ddb-8226-a12cbbe5fc30",
   "metadata": {},
   "outputs": [
    {
     "name": "stdout",
     "output_type": "stream",
     "text": [
      "tensor([[[3., 3., 3., 3.],\n",
      "         [3., 3., 3., 3.]],\n",
      "\n",
      "        [[3., 3., 3., 3.],\n",
      "         [3., 3., 3., 3.]]])\n"
     ]
    }
   ],
   "source": [
    "# Fill a tensor with a specific number\n",
    "t_ones.fill_(3)\n",
    "print(t_ones)"
   ]
  },
  {
   "cell_type": "code",
   "execution_count": 52,
   "id": "06315e4c-1183-4723-af84-3788a39de12f",
   "metadata": {},
   "outputs": [
    {
     "name": "stdout",
     "output_type": "stream",
     "text": [
      "tensor([7., 8., 9.])\n"
     ]
    }
   ],
   "source": [
    "# If you want to create a tensor filled with specific numbers just do\n",
    "v = torch.Tensor([7,8,9])\n",
    "print(v)"
   ]
  },
  {
   "cell_type": "markdown",
   "id": "41ce40be-a8fd-4b79-8d69-6c05757a4508",
   "metadata": {},
   "source": [
    "Working with tensors is exactly like working with vectors and matrices!"
   ]
  },
  {
   "cell_type": "code",
   "execution_count": 53,
   "id": "5febd376-8d6b-4be2-bef1-b2a0b8fc3e1c",
   "metadata": {},
   "outputs": [
    {
     "name": "stdout",
     "output_type": "stream",
     "text": [
      "tensor([10., 10., 10.])\n",
      "tensor([21., 16.,  9.])\n"
     ]
    }
   ],
   "source": [
    "w = torch.Tensor([3,2,1]) # a vector\n",
    "# Sum (or subtraction)\n",
    "print(w + v)\n",
    "# Element-wise multiplication (or division)\n",
    "print(w * v)\n",
    "# Square all elements in the tensor\n",
    "w2 = w.pow(2)\n",
    "# and so on..."
   ]
  },
  {
   "cell_type": "code",
   "execution_count": 54,
   "id": "ab258c45-71d1-4649-a754-d0d414f2938a",
   "metadata": {},
   "outputs": [
    {
     "name": "stdout",
     "output_type": "stream",
     "text": [
      "tensor([[1., 2., 3., 4.],\n",
      "        [5., 6., 7., 8.]])\n",
      "torch.Size([2, 4]) 2 4\n"
     ]
    }
   ],
   "source": [
    "# Define a 2x4 matrix\n",
    "m = torch.Tensor([[1,2,3,4],\n",
    "                 [5,6,7,8]])\n",
    "print(m)\n",
    "print(m.size(), m.size(0), m.size(1))"
   ]
  },
  {
   "cell_type": "code",
   "execution_count": 55,
   "id": "cc7b8b6c-0a76-4529-b61d-02bde8ef10de",
   "metadata": {},
   "outputs": [
    {
     "name": "stdout",
     "output_type": "stream",
     "text": [
      "tensor(7.)\n",
      "tensor([3., 7.])\n",
      "tensor([5., 6., 7., 8.])\n",
      "tensor([[3., 4.],\n",
      "        [7., 8.]])\n",
      "tensor([[1., 2.],\n",
      "        [5., 6.]])\n"
     ]
    }
   ],
   "source": [
    "# Get a value from the matrix\n",
    "print(m[1,2])\n",
    "# Get a column\n",
    "print(m[:,2])\n",
    "# Get a row\n",
    "print(m[1, :])\n",
    "# Getting an intervall of values\n",
    "print(m[:, 2:])\n",
    "print(m[:, :2])"
   ]
  },
  {
   "cell_type": "code",
   "execution_count": 56,
   "id": "7fb8aa10-6013-420d-b6c9-f4a8b6c0ac57",
   "metadata": {},
   "outputs": [
    {
     "name": "stdout",
     "output_type": "stream",
     "text": [
      "tensor([[0.7529, 1.4732, 1.7290, 4.5110],\n",
      "        [5.4559, 6.6790, 6.8640, 8.8323]])\n",
      "tensor([[-0.2471, -1.0537, -3.8129,  2.0442],\n",
      "        [ 2.2797,  4.0738, -0.9522,  6.6585]])\n"
     ]
    }
   ],
   "source": [
    "# like with vectors you can\n",
    "# Sum (or subtraction)\n",
    "b = torch.randn(2,4)\n",
    "print(m + b)\n",
    "# Multiplication (or division)\n",
    "print(m * b)"
   ]
  },
  {
   "cell_type": "code",
   "execution_count": 57,
   "id": "e9d001fe-1e5e-47a1-bf93-191a303256f0",
   "metadata": {},
   "outputs": [
    {
     "name": "stdout",
     "output_type": "stream",
     "text": [
      "tensor([[1., 5.],\n",
      "        [2., 6.],\n",
      "        [3., 7.],\n",
      "        [4., 8.]])\n",
      "torch.Size([2, 4])\n",
      "torch.Size([4, 2])\n",
      "torch.Size([2, 2])\n",
      "tensor([[ 30.,  70.],\n",
      "        [ 70., 174.]])\n"
     ]
    }
   ],
   "source": [
    "# Transpose a matrix\n",
    "print(m.t())\n",
    "# Row-by-column multiplication\n",
    "m2 = m.t()\n",
    "m3 = torch.matmul(m,m2)\n",
    "print(m.size())\n",
    "print(m2.size())\n",
    "print(m3.size())\n",
    "print(m3) "
   ]
  },
  {
   "cell_type": "code",
   "execution_count": 58,
   "id": "3d3ab60d-67ba-4b61-b9c5-0dcd9313fc25",
   "metadata": {},
   "outputs": [
    {
     "name": "stdout",
     "output_type": "stream",
     "text": [
      "torch.Size([4, 32])\n",
      "torch.Size([4, 16, 2])\n"
     ]
    }
   ],
   "source": [
    "# Flatten a tensor maintaining the same batch size (the first element of the Tensor)\n",
    "m_4_dim = torch.randn(4,8,2,2)\n",
    "print(m_4_dim.view(m_4_dim.size(0), -1).size()) \n",
    "# Rearrange dimensions\n",
    "print(m_4_dim.view(m_4_dim.size(0), 16, 2).size()) "
   ]
  },
  {
   "cell_type": "markdown",
   "id": "c11892ac-f602-4620-9035-7ae7dfa3cadc",
   "metadata": {},
   "source": [
    "Moving tensors to GPU"
   ]
  },
  {
   "cell_type": "code",
   "execution_count": 59,
   "id": "f1d62c05-de21-4ce0-8686-0e17caeab7a8",
   "metadata": {},
   "outputs": [
    {
     "name": "stdout",
     "output_type": "stream",
     "text": [
      "cuda:0\n"
     ]
    }
   ],
   "source": [
    "# Move tensor to GPU device 0 if there is one (first GPU in the system)\n",
    "device = torch.device(\"cuda:0\" if torch.cuda.is_available() else \"cpu\")\n",
    "m_d = m.to(device)\n",
    "print(m_d.device)"
   ]
  },
  {
   "cell_type": "markdown",
   "id": "cc359b97-929e-44d6-9d9c-c77a9f4bffad",
   "metadata": {},
   "source": [
    "Moving tensors to Numpy"
   ]
  },
  {
   "cell_type": "code",
   "execution_count": 60,
   "id": "48d797bd-0782-4b30-a8a3-58a49e703b09",
   "metadata": {},
   "outputs": [
    {
     "name": "stdout",
     "output_type": "stream",
     "text": [
      "[[1. 2. 3. 4.]\n",
      " [5. 6. 7. 8.]]\n"
     ]
    }
   ],
   "source": [
    "# Converts tensor to numpy array\n",
    "m_np = m.numpy()\n",
    "print(m_np)"
   ]
  },
  {
   "cell_type": "markdown",
   "id": "bab24323-6f7d-40d5-b649-ca79197b0e0a",
   "metadata": {},
   "source": [
    "Tensors concatenations"
   ]
  },
  {
   "cell_type": "code",
   "execution_count": 61,
   "id": "9b765c44-69b4-401a-8ade-846348d2f1ba",
   "metadata": {},
   "outputs": [
    {
     "name": "stdout",
     "output_type": "stream",
     "text": [
      "tensor([[1., 2., 3., 4.],\n",
      "        [5., 6., 7., 8.]])\n",
      "tensor([[1., 2., 3., 4., 5., 6., 7., 8.]])\n"
     ]
    }
   ],
   "source": [
    "a = torch.Tensor([[1, 2, 3, 4]])\n",
    "b = torch.Tensor([[5, 6, 7, 8]])\n",
    "\n",
    "# Concatenate on axis 0\n",
    "print(torch.cat((a, b), 0))\n",
    "# Concatenate on axis 1\n",
    "print(torch.cat((a, b), 1))"
   ]
  },
  {
   "cell_type": "code",
   "execution_count": 109,
   "id": "749be253-07a4-4c16-a50d-2bd95532d4cb",
   "metadata": {},
   "outputs": [
    {
     "name": "stdout",
     "output_type": "stream",
     "text": [
      "torch.Size([1, 3, 64, 64])\n",
      "torch.Size([3, 64, 64])\n"
     ]
    }
   ],
   "source": [
    "# Adding and removing dimensions from Tensor\n",
    "r_t = torch.randn(3,64,64)\n",
    "# add a dimension\n",
    "r_t = r_t.unsqueeze(0) # argument is WHERE we want the dimension to be added\n",
    "print(r_t.size())\n",
    "# remove a dimension\n",
    "r_t = r_t.squeeze(0) # argument is WHERE we want the dimension to be removed\n",
    "print(r_t.size())"
   ]
  },
  {
   "cell_type": "code",
   "execution_count": 95,
   "id": "78438106-1a53-45c1-946c-4bd6070e7d93",
   "metadata": {},
   "outputs": [
    {
     "name": "stdout",
     "output_type": "stream",
     "text": [
      "torch.Size([4, 64, 128])\n",
      "torch.Size([4, 32, 128])\n",
      "torch.Size([4, 64, 128])\n"
     ]
    }
   ],
   "source": [
    "# Ex1: Split a 3 dimentional tensors of dimension 4x64x128 \n",
    "# into 2 tensors of size 4x32x128\n",
    "# and then concatenate them toghether to get the original size back"
   ]
  },
  {
   "cell_type": "code",
   "execution_count": null,
   "id": "333278bb",
   "metadata": {},
   "outputs": [],
   "source": [
    "a = torch.randn(4,64,128)\n",
    "print(a.shape)\n",
    "b = torch.chunk(a,2,1)\n",
    "print(b[0].shape)\n",
    "c = torch.cat((b[0],b[1]),1)\n",
    "print(c.shape)"
   ]
  },
  {
   "cell_type": "code",
   "execution_count": 19,
   "id": "b69ec614-493b-406f-a71f-9800bbf88783",
   "metadata": {},
   "outputs": [],
   "source": [
    "# Ex2: You have two matrices of dimension: 4x256x4 and 4x16x64 \n",
    "# concatenate them toghether to form a single matrix\n",
    "# of dimension 4x64x32"
   ]
  },
  {
   "cell_type": "code",
   "execution_count": 131,
   "id": "326dbf10",
   "metadata": {},
   "outputs": [
    {
     "name": "stdout",
     "output_type": "stream",
     "text": [
      "torch.Size([4, 1024])\n",
      "torch.Size([4, 64])\n",
      "torch.Size([4, 64, 16])\n",
      "torch.Size([4, 1024])\n",
      "torch.Size([4, 64])\n",
      "torch.Size([4, 64, 16])\n",
      "torch.Size([4, 64, 32])\n",
      "tensor([[ 0.7320,  0.2307,  1.0664,  ...,  0.1528,  0.6943,  1.1013],\n",
      "        [-0.7276, -0.2944,  0.2911,  ...,  0.9749,  0.5329, -1.0997],\n",
      "        [ 1.3043,  0.1452, -0.0641,  ...,  1.5099, -0.2420,  0.4071],\n",
      "        [-0.8918, -0.4085, -1.8522,  ...,  0.2550,  1.1756,  0.2924]])\n",
      "tensor([[ 0.2089,  0.1434, -0.3333,  ..., -0.2215,  0.3412, -1.1354],\n",
      "        [ 1.0955,  1.0964,  1.1218,  ...,  0.0752, -1.7886, -0.0832],\n",
      "        [ 0.3953, -0.4901,  0.3883,  ...,  1.4568,  1.2309, -1.1172],\n",
      "        [-0.4694, -0.7518,  0.5342,  ...,  1.8350,  1.4087,  0.6191]])\n",
      "tensor([[[ 0.7320,  0.8817, -1.7894,  ..., -0.9969,  1.3382,  1.6922],\n",
      "         [ 0.2307,  1.1577, -1.3423,  ..., -0.7225, -0.3695,  1.3684],\n",
      "         [ 1.0664,  0.0063,  0.6343,  ...,  0.6400, -0.1451, -0.8369],\n",
      "         ...,\n",
      "         [-0.9317,  1.1263, -1.5400,  ..., -1.2459, -0.5987, -0.2215],\n",
      "         [ 0.0562, -1.1513,  1.1671,  ..., -0.5027, -1.1284,  0.3412],\n",
      "         [ 0.6839, -2.0996,  1.0792,  ..., -0.6738,  1.0155, -1.1354]],\n",
      "\n",
      "        [[-0.7276, -0.4780,  0.2110,  ...,  1.1658,  0.4777, -0.7003],\n",
      "         [-0.2944, -2.1663, -1.9948,  ...,  0.5693, -0.5078,  1.8367],\n",
      "         [ 0.2911,  0.9940,  0.6135,  ...,  0.3990,  0.2749,  2.0271],\n",
      "         ...,\n",
      "         [-0.9903, -0.3478, -0.9976,  ..., -0.8212, -1.9335,  0.0752],\n",
      "         [-0.6556, -0.2021, -1.5248,  ..., -0.0622,  1.0588, -1.7886],\n",
      "         [ 0.1227, -0.5093, -0.1516,  ...,  0.2941, -0.2598, -0.0832]],\n",
      "\n",
      "        [[ 1.3043, -0.0839, -1.2133,  ...,  0.0477, -1.2524, -0.2691],\n",
      "         [ 0.1452, -0.0533,  1.0380,  ..., -1.4696,  0.3732, -1.3092],\n",
      "         [-0.0641, -0.1933,  1.1019,  ..., -1.8930,  1.0138,  0.3855],\n",
      "         ...,\n",
      "         [-1.0673, -0.2005, -1.1263,  ...,  0.5587, -0.4270,  1.4568],\n",
      "         [ 1.5745, -0.1272,  0.9309,  ..., -0.4402,  0.3184,  1.2309],\n",
      "         [ 2.4341, -2.0951, -1.9895,  ..., -0.3129, -0.0694, -1.1172]],\n",
      "\n",
      "        [[-0.8918, -0.8132,  0.8112,  ...,  0.3986,  0.9062, -0.9713],\n",
      "         [-0.4085, -0.9052, -1.2244,  ..., -0.3476,  1.3447,  0.4438],\n",
      "         [-1.8522,  0.1795, -0.8993,  ...,  0.5801,  1.4366,  0.2229],\n",
      "         ...,\n",
      "         [ 0.6370, -0.2764,  0.7777,  ...,  0.1255,  0.3253,  1.8350],\n",
      "         [-0.6641, -0.6669,  0.1724,  ...,  0.4026,  1.3411,  1.4087],\n",
      "         [ 1.8000,  1.7672, -0.5243,  ...,  0.7397, -0.1755,  0.6191]]])\n"
     ]
    }
   ],
   "source": [
    "a = torch.randn(4,256,4)\n",
    "a = a.view(a.size(0),-1)\n",
    "print(a.shape)\n",
    "a2 = torch.chunk(a,16,1)\n",
    "print(a2[0].shape)\n",
    "c = torch.stack(a2,2)\n",
    "print(c.shape)\n",
    "b = torch.randn(4,16,64)\n",
    "b = b.view(a.size(0),-1)\n",
    "print(b.shape)\n",
    "b2 = torch.chunk(b,16,1) # ciao\n",
    "print(b2[0].shape)\n",
    "d = torch.stack(b2,2)\n",
    "print(d.shape)\n",
    "e = torch.cat((c,d),2)\n",
    "print(e.shape)"
   ]
  },
  {
   "cell_type": "code",
   "execution_count": 20,
   "id": "f07e2ed8-e7d7-44b8-a332-c1b63dccc3ca",
   "metadata": {},
   "outputs": [],
   "source": [
    "# Ex3: You have 4 matrixes representing 4 RGB images of dimension 3x128x128.\n",
    "# Create a grid of dimension 3x256x256"
   ]
  }
 ],
 "metadata": {
  "kernelspec": {
   "display_name": "Python 3.10.4 ('pytorch')",
   "language": "python",
   "name": "python3"
  },
  "language_info": {
   "codemirror_mode": {
    "name": "ipython",
    "version": 3
   },
   "file_extension": ".py",
   "mimetype": "text/x-python",
   "name": "python",
   "nbconvert_exporter": "python",
   "pygments_lexer": "ipython3",
   "version": "3.10.4 | packaged by conda-forge | (main, Mar 30 2022, 08:38:02) [MSC v.1916 64 bit (AMD64)]"
  },
  "vscode": {
   "interpreter": {
    "hash": "a1e9190da96085107a48c4c9bd17a4ee4ffa8a340fb86380f1da8fbb80fcc62b"
   }
  }
 },
 "nbformat": 4,
 "nbformat_minor": 5
}
