{
 "cells": [
  {
   "cell_type": "markdown",
   "id": "8b718ac4-2466-44af-b8fd-1be5b2547738",
   "metadata": {},
   "source": [
    "# First steps into Pytorch\n",
    "for more details: https://pytorch.org/docs/stable/index.html"
   ]
  },
  {
   "cell_type": "code",
   "execution_count": null,
   "id": "6173c1ac-e057-46b0-ade9-1ad3c3dd5f0d",
   "metadata": {
    "tags": []
   },
   "outputs": [],
   "source": [
    "#Let's start by importing the library\n",
    "import torch"
   ]
  },
  {
   "cell_type": "markdown",
   "id": "e5561279-a8a7-4cb5-bc7f-fc18b6f08c20",
   "metadata": {},
   "source": [
    "A <code>torch.Tensor</code> is a multi-dimensional matrix containing elements of a single data type."
   ]
  },
  {
   "cell_type": "code",
   "execution_count": null,
   "id": "dcd7b201-e8bf-4a2e-9e0c-596ddfc35dd8",
   "metadata": {
    "tags": []
   },
   "outputs": [],
   "source": [
    "# Generate a Tensor of size 2x2x4\n",
    "t = torch.Tensor(2,2,4)\n",
    "# .size() allows to get the size of the tensor\n",
    "print(t.size())\n",
    "# also .shape do the same\n",
    "print(t.shape)"
   ]
  },
  {
   "cell_type": "code",
   "execution_count": null,
   "id": "6d1a60cb-21f6-4ff2-a8a9-669029cd94ab",
   "metadata": {
    "tags": []
   },
   "outputs": [],
   "source": [
    "# Generate a tensor filled with random numbers \n",
    "# from a normal distribution with mean 0 and variance 1 \n",
    "# with the same size\n",
    "t_r = torch.randn(2,2,4)\n",
    "# and a tensor filled with ones\n",
    "t_ones = torch.ones(2,2,4)"
   ]
  },
  {
   "cell_type": "code",
   "execution_count": null,
   "id": "39fe3992-19ed-4588-ba74-7eb44f8c07d8",
   "metadata": {
    "tags": []
   },
   "outputs": [],
   "source": [
    "# Print the tensors\n",
    "print(t, t_r, t_ones)"
   ]
  },
  {
   "cell_type": "code",
   "execution_count": null,
   "id": "614832d1-6fbf-4295-83aa-c58fe84b83a0",
   "metadata": {},
   "outputs": [],
   "source": [
    "# To resize a tensor do\n",
    "t.resize_(4,4)\n",
    "print(t.size())\n",
    "# be CAREFULL with in-place operations like this one\n",
    "# since they will permanently change the tensor"
   ]
  },
  {
   "cell_type": "code",
   "execution_count": null,
   "id": "416c3840-81a4-45a0-90fa-856170e37619",
   "metadata": {},
   "outputs": [],
   "source": [
    "# It is better to firstly clone the tensor and then resize it\n",
    "t_c = t.clone()\n",
    "t_c.resize_(2,2)\n",
    "# so that the original one remains untouched\n",
    "print(t.size(), t_c.size())"
   ]
  },
  {
   "cell_type": "code",
   "execution_count": null,
   "id": "e5361261",
   "metadata": {},
   "outputs": [],
   "source": [
    "# Reshaping tensors\n",
    "t = torch.tensor([\n",
    "    [1,1,1,1],\n",
    "    [2,2,2,2],\n",
    "    [3,3,3,3]\n",
    "], dtype=torch.float32) # dtype allows to define the type of the elements of the tensors\n",
    "print(t.shape)\n",
    "print(t.reshape([1,12]))\n",
    "print(t.reshape([1,-1]))    # same as above\n",
    "print(t.reshape([1,12]).squeeze())           # same as above, but flattened\n",
    "print(t.reshape([2,6]))\n",
    "print(t.reshape([3,4]))\n"
   ]
  },
  {
   "cell_type": "code",
   "execution_count": null,
   "id": "bdbd8054-a006-4ddb-8226-a12cbbe5fc30",
   "metadata": {},
   "outputs": [],
   "source": [
    "# Fill a tensor with a specific number\n",
    "t_ones.fill_(3)\n",
    "print(t_ones)"
   ]
  },
  {
   "cell_type": "code",
   "execution_count": null,
   "id": "06315e4c-1183-4723-af84-3788a39de12f",
   "metadata": {},
   "outputs": [],
   "source": [
    "# If you want to create a tensor filled with specific numbers just do\n",
    "v = torch.Tensor([7,8,9])\n",
    "print(v)"
   ]
  },
  {
   "cell_type": "markdown",
   "id": "41ce40be-a8fd-4b79-8d69-6c05757a4508",
   "metadata": {},
   "source": [
    "Working with tensors is exactly like working with vectors and matrices!"
   ]
  },
  {
   "cell_type": "code",
   "execution_count": null,
   "id": "5febd376-8d6b-4be2-bef1-b2a0b8fc3e1c",
   "metadata": {},
   "outputs": [],
   "source": [
    "w = torch.Tensor([3,2,1]) # a vector\n",
    "# Sum (or subtraction)\n",
    "print(w + v)\n",
    "# Element-wise multiplication (or division)\n",
    "print(w * v)\n",
    "# Square all elements in the tensor\n",
    "w2 = w.pow(2)\n",
    "# and so on..."
   ]
  },
  {
   "cell_type": "code",
   "execution_count": null,
   "id": "ab258c45-71d1-4649-a754-d0d414f2938a",
   "metadata": {},
   "outputs": [],
   "source": [
    "# Define a 2x4 matrix\n",
    "m = torch.Tensor([[1,2,3,4],\n",
    "                 [5,6,7,8]])\n",
    "print(m)\n",
    "print(m.size(), m.size(0), m.size(1))"
   ]
  },
  {
   "cell_type": "code",
   "execution_count": null,
   "id": "cc7b8b6c-0a76-4529-b61d-02bde8ef10de",
   "metadata": {},
   "outputs": [],
   "source": [
    "# Get a value from the matrix\n",
    "print(m[1,2])\n",
    "# Get a column\n",
    "print(m[:,2])\n",
    "# Get a row\n",
    "print(m[1, :])\n",
    "# Getting an intervall of values\n",
    "print(m[:, 2:])\n",
    "print(m[:, :2])"
   ]
  },
  {
   "cell_type": "code",
   "execution_count": null,
   "id": "7fb8aa10-6013-420d-b6c9-f4a8b6c0ac57",
   "metadata": {},
   "outputs": [],
   "source": [
    "# like with vectors you can\n",
    "# Sum (or subtraction)\n",
    "b = torch.randn(2,4)\n",
    "print(m + b)\n",
    "# Multiplication (or division)\n",
    "print(m * b)"
   ]
  },
  {
   "cell_type": "code",
   "execution_count": null,
   "id": "e9d001fe-1e5e-47a1-bf93-191a303256f0",
   "metadata": {},
   "outputs": [],
   "source": [
    "# Transpose a matrix\n",
    "print(m.t())\n",
    "# Row-by-column multiplication\n",
    "m2 = m.t()\n",
    "m3 = torch.matmul(m,m2)\n",
    "print(m.size())\n",
    "print(m2.size())\n",
    "print(m3.size())\n",
    "print(m3) "
   ]
  },
  {
   "cell_type": "code",
   "execution_count": null,
   "id": "3d3ab60d-67ba-4b61-b9c5-0dcd9313fc25",
   "metadata": {},
   "outputs": [],
   "source": [
    "# Flatten a tensor maintaining the same batch size (the first element of the Tensor)\n",
    "m_4_dim = torch.randn(4,8,2,2)\n",
    "print(m_4_dim.view(m_4_dim.size(0), -1).size()) \n",
    "# Rearrange dimensions\n",
    "print(m_4_dim.view(m_4_dim.size(0), 16, 2).size()) "
   ]
  },
  {
   "cell_type": "markdown",
   "id": "c11892ac-f602-4620-9035-7ae7dfa3cadc",
   "metadata": {},
   "source": [
    "Moving tensors to GPU"
   ]
  },
  {
   "cell_type": "code",
   "execution_count": null,
   "id": "f1d62c05-de21-4ce0-8686-0e17caeab7a8",
   "metadata": {},
   "outputs": [],
   "source": [
    "# Move tensor to GPU device 0 if there is one (first GPU in the system)\n",
    "device = torch.device(\"cuda:0\" if torch.cuda.is_available() else \"cpu\")\n",
    "m_d = m.to(device)\n",
    "print(m_d.device)"
   ]
  },
  {
   "cell_type": "markdown",
   "id": "cc359b97-929e-44d6-9d9c-c77a9f4bffad",
   "metadata": {},
   "source": [
    "Moving tensors to Numpy"
   ]
  },
  {
   "cell_type": "code",
   "execution_count": null,
   "id": "48d797bd-0782-4b30-a8a3-58a49e703b09",
   "metadata": {},
   "outputs": [],
   "source": [
    "# Converts tensor to numpy array\n",
    "m_np = m.numpy()\n",
    "print(m_np)"
   ]
  },
  {
   "cell_type": "markdown",
   "id": "bab24323-6f7d-40d5-b649-ca79197b0e0a",
   "metadata": {},
   "source": [
    "Tensors concatenations"
   ]
  },
  {
   "cell_type": "code",
   "execution_count": null,
   "id": "9b765c44-69b4-401a-8ade-846348d2f1ba",
   "metadata": {},
   "outputs": [],
   "source": [
    "a = torch.Tensor([[1, 2, 3, 4]])\n",
    "b = torch.Tensor([[5, 6, 7, 8]])\n",
    "\n",
    "# Concatenate on axis 0\n",
    "print(torch.cat((a, b), 0))\n",
    "# Concatenate on axis 1\n",
    "print(torch.cat((a, b), 1))"
   ]
  },
  {
   "cell_type": "code",
   "execution_count": null,
   "id": "749be253-07a4-4c16-a50d-2bd95532d4cb",
   "metadata": {},
   "outputs": [],
   "source": [
    "# Adding and removing dimensions from Tensor\n",
    "r_t = torch.randn(3,64,64)\n",
    "# add a dimension\n",
    "r_t = r_t.unsqueeze(0) # argument is WHERE we want the dimension to be added\n",
    "print(r_t.size())\n",
    "# remove a dimension\n",
    "r_t = r_t.squeeze(0) # argument is WHERE we want the dimension to be removed\n",
    "print(r_t.size())"
   ]
  },
  {
   "cell_type": "code",
   "execution_count": null,
   "id": "78438106-1a53-45c1-946c-4bd6070e7d93",
   "metadata": {},
   "outputs": [],
   "source": [
    "# Ex1: Split a 3 dimentional tensors of dimension 4x64x128 \n",
    "# into 2 tensors of size 4x32x128\n",
    "# and then concatenate them toghether to get the original size back"
   ]
  },
  {
   "cell_type": "code",
   "execution_count": null,
   "id": "b69ec614-493b-406f-a71f-9800bbf88783",
   "metadata": {},
   "outputs": [],
   "source": [
    "# Ex2: You have two matrices of dimension: 4x256x4 and 4x16x64 \n",
    "# concatenate them toghether to form a single matrix\n",
    "# of dimension 4x64x32"
   ]
  },
  {
   "cell_type": "code",
   "execution_count": null,
   "id": "f07e2ed8-e7d7-44b8-a332-c1b63dccc3ca",
   "metadata": {},
   "outputs": [],
   "source": [
    "# Ex3: You have 4 matrixes representing 4 RGB images of dimension 3x128x128.\n",
    "# Create a grid of dimension 3x256x256"
   ]
  }
 ],
 "metadata": {
  "kernelspec": {
   "display_name": "Python 3.10.4 ('pytorch')",
   "language": "python",
   "name": "python3"
  },
  "language_info": {
   "codemirror_mode": {
    "name": "ipython",
    "version": 3
   },
   "file_extension": ".py",
   "mimetype": "text/x-python",
   "name": "python",
   "nbconvert_exporter": "python",
   "pygments_lexer": "ipython3",
   "version": "3.10.4"
  },
  "vscode": {
   "interpreter": {
    "hash": "a1e9190da96085107a48c4c9bd17a4ee4ffa8a340fb86380f1da8fbb80fcc62b"
   }
  }
 },
 "nbformat": 4,
 "nbformat_minor": 5
}
