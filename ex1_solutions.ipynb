{
 "cells": [
  {
   "cell_type": "markdown",
   "id": "8b718ac4-2466-44af-b8fd-1be5b2547738",
   "metadata": {},
   "source": [
    "# First steps into Pytorch\n",
    "for more details: https://pytorch.org/docs/stable/index.html"
   ]
  },
  {
   "cell_type": "code",
   "execution_count": 2,
   "id": "6173c1ac-e057-46b0-ade9-1ad3c3dd5f0d",
   "metadata": {
    "tags": []
   },
   "outputs": [],
   "source": [
    "#Let's start by importing the library\n",
    "import torch"
   ]
  },
  {
   "cell_type": "markdown",
   "id": "e5561279-a8a7-4cb5-bc7f-fc18b6f08c20",
   "metadata": {},
   "source": [
    "A <code>torch.Tensor</code> is a multi-dimensional matrix containing elements of a single data type."
   ]
  },
  {
   "cell_type": "code",
   "execution_count": 3,
   "id": "dcd7b201-e8bf-4a2e-9e0c-596ddfc35dd8",
   "metadata": {
    "tags": []
   },
   "outputs": [
    {
     "name": "stdout",
     "output_type": "stream",
     "text": [
      "torch.Size([2, 2, 4])\n",
      "torch.Size([2, 2, 4])\n"
     ]
    }
   ],
   "source": [
    "# Generate a Tensor of size 2x2x4\n",
    "t = torch.Tensor(2,2,4)\n",
    "# .size() allows to get the size of the tensor\n",
    "print(t.size())\n",
    "# also .shape do the same\n",
    "print(t.shape)"
   ]
  },
  {
   "cell_type": "code",
   "execution_count": 4,
   "id": "6d1a60cb-21f6-4ff2-a8a9-669029cd94ab",
   "metadata": {
    "tags": []
   },
   "outputs": [],
   "source": [
    "# Generate a tensor filled with random numbers \n",
    "# from a normal distribution with mean 0 and variance 1 \n",
    "# with the same size\n",
    "t_r = torch.randn(2,2,4)\n",
    "# and a tensor filled with ones\n",
    "t_ones = torch.ones(2,2,4)"
   ]
  },
  {
   "cell_type": "code",
   "execution_count": 5,
   "id": "39fe3992-19ed-4588-ba74-7eb44f8c07d8",
   "metadata": {
    "tags": []
   },
   "outputs": [
    {
     "name": "stdout",
     "output_type": "stream",
     "text": [
      "tensor([[[4.4082e-39, 4.2246e-39, 1.0286e-38, 1.0653e-38],\n",
      "         [1.0194e-38, 8.4490e-39, 1.0469e-38, 9.3674e-39]],\n",
      "\n",
      "        [[9.9184e-39, 8.7245e-39, 9.2755e-39, 8.9082e-39],\n",
      "         [9.9184e-39, 8.4490e-39, 9.6429e-39, 1.0653e-38]]]) tensor([[[-0.5167,  1.0820, -0.6305,  0.5838],\n",
      "         [ 1.2005, -1.5526, -1.2822,  0.3110]],\n",
      "\n",
      "        [[-0.2026,  0.4504, -0.3075,  0.3934],\n",
      "         [-0.5660,  0.2005,  0.4667,  0.6104]]]) tensor([[[1., 1., 1., 1.],\n",
      "         [1., 1., 1., 1.]],\n",
      "\n",
      "        [[1., 1., 1., 1.],\n",
      "         [1., 1., 1., 1.]]])\n"
     ]
    }
   ],
   "source": [
    "# Print the tensors\n",
    "print(t, t_r, t_ones)"
   ]
  },
  {
   "cell_type": "code",
   "execution_count": 6,
   "id": "614832d1-6fbf-4295-83aa-c58fe84b83a0",
   "metadata": {},
   "outputs": [
    {
     "name": "stdout",
     "output_type": "stream",
     "text": [
      "torch.Size([4, 4])\n"
     ]
    }
   ],
   "source": [
    "# To resize a tensor do\n",
    "t.resize_(4,4)\n",
    "print(t.size())\n",
    "# be CAREFULL with in-place operations like this one\n",
    "# since they will permanently change the tensor"
   ]
  },
  {
   "cell_type": "code",
   "execution_count": 7,
   "id": "416c3840-81a4-45a0-90fa-856170e37619",
   "metadata": {},
   "outputs": [
    {
     "name": "stdout",
     "output_type": "stream",
     "text": [
      "torch.Size([4, 4]) torch.Size([2, 2])\n"
     ]
    }
   ],
   "source": [
    "# It is better to firstly clone the tensor and then resize it\n",
    "t_c = t.clone()\n",
    "t_c.resize_(2,2)\n",
    "# so that the original one remains untouched\n",
    "print(t.size(), t_c.size())"
   ]
  },
  {
   "cell_type": "code",
   "execution_count": 8,
   "id": "e5361261",
   "metadata": {},
   "outputs": [
    {
     "name": "stdout",
     "output_type": "stream",
     "text": [
      "torch.Size([3, 4])\n",
      "tensor([[1., 1., 1., 1., 2., 2., 2., 2., 3., 3., 3., 3.]])\n",
      "tensor([[1., 1., 1., 1., 2., 2., 2., 2., 3., 3., 3., 3.]])\n",
      "tensor([1., 1., 1., 1., 2., 2., 2., 2., 3., 3., 3., 3.])\n",
      "tensor([[1., 1., 1., 1., 2., 2.],\n",
      "        [2., 2., 3., 3., 3., 3.]])\n",
      "tensor([[1., 1., 1., 1.],\n",
      "        [2., 2., 2., 2.],\n",
      "        [3., 3., 3., 3.]])\n"
     ]
    }
   ],
   "source": [
    "# Reshaping tensors\n",
    "t = torch.tensor([\n",
    "    [1,1,1,1],\n",
    "    [2,2,2,2],\n",
    "    [3,3,3,3]\n",
    "], dtype=torch.float32) # dtype allows to define the type of the elements of the tensors\n",
    "print(t.shape)\n",
    "print(t.reshape([1,12]))\n",
    "print(t.reshape([1,-1]))    # same as above\n",
    "print(t.reshape([1,12]).squeeze())           # same as above, but flattened\n",
    "print(t.reshape([2,6]))\n",
    "print(t.reshape([3,4]))\n"
   ]
  },
  {
   "cell_type": "code",
   "execution_count": 9,
   "id": "bdbd8054-a006-4ddb-8226-a12cbbe5fc30",
   "metadata": {},
   "outputs": [
    {
     "name": "stdout",
     "output_type": "stream",
     "text": [
      "tensor([[[3., 3., 3., 3.],\n",
      "         [3., 3., 3., 3.]],\n",
      "\n",
      "        [[3., 3., 3., 3.],\n",
      "         [3., 3., 3., 3.]]])\n"
     ]
    }
   ],
   "source": [
    "# Fill a tensor with a specific number\n",
    "t_ones.fill_(3)\n",
    "print(t_ones)"
   ]
  },
  {
   "cell_type": "code",
   "execution_count": 10,
   "id": "06315e4c-1183-4723-af84-3788a39de12f",
   "metadata": {},
   "outputs": [
    {
     "name": "stdout",
     "output_type": "stream",
     "text": [
      "tensor([7., 8., 9.])\n"
     ]
    }
   ],
   "source": [
    "# If you want to create a tensor filled with specific numbers just do\n",
    "v = torch.Tensor([7,8,9])\n",
    "print(v)"
   ]
  },
  {
   "cell_type": "markdown",
   "id": "41ce40be-a8fd-4b79-8d69-6c05757a4508",
   "metadata": {},
   "source": [
    "Working with tensors is exactly like working with vectors and matrices!"
   ]
  },
  {
   "cell_type": "code",
   "execution_count": 11,
   "id": "5febd376-8d6b-4be2-bef1-b2a0b8fc3e1c",
   "metadata": {},
   "outputs": [
    {
     "name": "stdout",
     "output_type": "stream",
     "text": [
      "tensor([10., 10., 10.])\n",
      "tensor([21., 16.,  9.])\n"
     ]
    }
   ],
   "source": [
    "w = torch.Tensor([3,2,1]) # a vector\n",
    "# Sum (or subtraction)\n",
    "print(w + v)\n",
    "# Element-wise multiplication (or division)\n",
    "print(w * v)\n",
    "# Square all elements in the tensor\n",
    "w2 = w.pow(2)\n",
    "# and so on..."
   ]
  },
  {
   "cell_type": "code",
   "execution_count": 12,
   "id": "ab258c45-71d1-4649-a754-d0d414f2938a",
   "metadata": {},
   "outputs": [
    {
     "name": "stdout",
     "output_type": "stream",
     "text": [
      "tensor([[1., 2., 3., 4.],\n",
      "        [5., 6., 7., 8.]])\n",
      "torch.Size([2, 4]) 2 4\n"
     ]
    }
   ],
   "source": [
    "# Define a 2x4 matrix\n",
    "m = torch.Tensor([[1,2,3,4],\n",
    "                 [5,6,7,8]])\n",
    "print(m)\n",
    "print(m.size(), m.size(0), m.size(1))"
   ]
  },
  {
   "cell_type": "code",
   "execution_count": 13,
   "id": "cc7b8b6c-0a76-4529-b61d-02bde8ef10de",
   "metadata": {},
   "outputs": [
    {
     "name": "stdout",
     "output_type": "stream",
     "text": [
      "tensor(7.)\n",
      "tensor([3., 7.])\n",
      "tensor([5., 6., 7., 8.])\n",
      "tensor([[3., 4.],\n",
      "        [7., 8.]])\n",
      "tensor([[1., 2.],\n",
      "        [5., 6.]])\n"
     ]
    }
   ],
   "source": [
    "# Get a value from the matrix\n",
    "print(m[1,2])\n",
    "# Get a column\n",
    "print(m[:,2])\n",
    "# Get a row\n",
    "print(m[1, :])\n",
    "# Getting an intervall of values\n",
    "print(m[:, 2:])\n",
    "print(m[:, :2])"
   ]
  },
  {
   "cell_type": "code",
   "execution_count": 14,
   "id": "7fb8aa10-6013-420d-b6c9-f4a8b6c0ac57",
   "metadata": {},
   "outputs": [
    {
     "name": "stdout",
     "output_type": "stream",
     "text": [
      "tensor([[0.6055, 1.9343, 5.0750, 2.8201],\n",
      "        [5.3309, 5.5697, 5.1479, 7.5285]])\n",
      "tensor([[ -0.3945,  -0.1315,   6.2249,  -4.7195],\n",
      "        [  1.6544,  -2.5817, -12.9648,  -3.7717]])\n"
     ]
    }
   ],
   "source": [
    "# like with vectors you can\n",
    "# Sum (or subtraction)\n",
    "b = torch.randn(2,4)\n",
    "print(m + b)\n",
    "# Multiplication (or division)\n",
    "print(m * b)"
   ]
  },
  {
   "cell_type": "code",
   "execution_count": 15,
   "id": "e9d001fe-1e5e-47a1-bf93-191a303256f0",
   "metadata": {},
   "outputs": [
    {
     "name": "stdout",
     "output_type": "stream",
     "text": [
      "tensor([[1., 5.],\n",
      "        [2., 6.],\n",
      "        [3., 7.],\n",
      "        [4., 8.]])\n",
      "torch.Size([2, 4])\n",
      "torch.Size([4, 2])\n",
      "torch.Size([2, 2])\n",
      "tensor([[ 30.,  70.],\n",
      "        [ 70., 174.]])\n"
     ]
    }
   ],
   "source": [
    "# Transpose a matrix\n",
    "print(m.t())\n",
    "# Row-by-column multiplication\n",
    "m2 = m.t()\n",
    "m3 = torch.matmul(m,m2)\n",
    "print(m.size())\n",
    "print(m2.size())\n",
    "print(m3.size())\n",
    "print(m3) "
   ]
  },
  {
   "cell_type": "code",
   "execution_count": 16,
   "id": "3d3ab60d-67ba-4b61-b9c5-0dcd9313fc25",
   "metadata": {},
   "outputs": [
    {
     "name": "stdout",
     "output_type": "stream",
     "text": [
      "torch.Size([4, 32])\n",
      "torch.Size([4, 16, 2])\n"
     ]
    }
   ],
   "source": [
    "# Flatten a tensor maintaining the same batch size (the first element of the Tensor)\n",
    "m_4_dim = torch.randn(4,8,2,2)\n",
    "print(m_4_dim.view(m_4_dim.size(0), -1).size()) \n",
    "# Rearrange dimensions\n",
    "print(m_4_dim.view(m_4_dim.size(0), 16, 2).size()) "
   ]
  },
  {
   "cell_type": "markdown",
   "id": "c11892ac-f602-4620-9035-7ae7dfa3cadc",
   "metadata": {},
   "source": [
    "Moving tensors to GPU"
   ]
  },
  {
   "cell_type": "code",
   "execution_count": 17,
   "id": "f1d62c05-de21-4ce0-8686-0e17caeab7a8",
   "metadata": {},
   "outputs": [
    {
     "name": "stdout",
     "output_type": "stream",
     "text": [
      "cuda:0\n"
     ]
    }
   ],
   "source": [
    "# Move tensor to GPU device 0 if there is one (first GPU in the system)\n",
    "device = torch.device(\"cuda:0\" if torch.cuda.is_available() else \"cpu\")\n",
    "m_d = m.to(device)\n",
    "print(m_d.device)"
   ]
  },
  {
   "cell_type": "markdown",
   "id": "cc359b97-929e-44d6-9d9c-c77a9f4bffad",
   "metadata": {},
   "source": [
    "Moving tensors to Numpy"
   ]
  },
  {
   "cell_type": "code",
   "execution_count": 18,
   "id": "48d797bd-0782-4b30-a8a3-58a49e703b09",
   "metadata": {},
   "outputs": [
    {
     "name": "stdout",
     "output_type": "stream",
     "text": [
      "[[1. 2. 3. 4.]\n",
      " [5. 6. 7. 8.]]\n"
     ]
    }
   ],
   "source": [
    "# Converts tensor to numpy array\n",
    "m_np = m.numpy()\n",
    "print(m_np)"
   ]
  },
  {
   "cell_type": "markdown",
   "id": "bab24323-6f7d-40d5-b649-ca79197b0e0a",
   "metadata": {},
   "source": [
    "Tensors concatenations"
   ]
  },
  {
   "cell_type": "code",
   "execution_count": 19,
   "id": "9b765c44-69b4-401a-8ade-846348d2f1ba",
   "metadata": {},
   "outputs": [
    {
     "name": "stdout",
     "output_type": "stream",
     "text": [
      "tensor([[1., 2., 3., 4.],\n",
      "        [5., 6., 7., 8.]])\n",
      "tensor([[1., 2., 3., 4., 5., 6., 7., 8.]])\n"
     ]
    }
   ],
   "source": [
    "a = torch.Tensor([[1, 2, 3, 4]])\n",
    "b = torch.Tensor([[5, 6, 7, 8]])\n",
    "\n",
    "# Concatenate on axis 0\n",
    "print(torch.cat((a, b), 0))\n",
    "# Concatenate on axis 1\n",
    "print(torch.cat((a, b), 1))"
   ]
  },
  {
   "cell_type": "code",
   "execution_count": 20,
   "id": "749be253-07a4-4c16-a50d-2bd95532d4cb",
   "metadata": {},
   "outputs": [
    {
     "name": "stdout",
     "output_type": "stream",
     "text": [
      "torch.Size([1, 3, 64, 64])\n",
      "torch.Size([3, 64, 64])\n"
     ]
    }
   ],
   "source": [
    "# Adding and removing dimensions from Tensor\n",
    "r_t = torch.randn(3,64,64)\n",
    "# add a dimension\n",
    "r_t = r_t.unsqueeze(0) # argument is WHERE we want the dimension to be added\n",
    "print(r_t.size())\n",
    "# remove a dimension\n",
    "r_t = r_t.squeeze(0) # argument is WHERE we want the dimension to be removed\n",
    "print(r_t.size())"
   ]
  },
  {
   "cell_type": "code",
   "execution_count": 21,
   "id": "78438106-1a53-45c1-946c-4bd6070e7d93",
   "metadata": {},
   "outputs": [],
   "source": [
    "# Ex1: Split a 3 dimentional tensors of dimension 4x64x128 \n",
    "# into 2 tensors of size 4x32x128\n",
    "# and then concatenate them toghether to get the original size back"
   ]
  },
  {
   "cell_type": "code",
   "execution_count": 28,
   "id": "333278bb",
   "metadata": {},
   "outputs": [
    {
     "name": "stdout",
     "output_type": "stream",
     "text": [
      "torch.Size([4, 64, 128])\n",
      "torch.Size([4, 32, 128])\n",
      "torch.Size([4, 32, 128])\n",
      "torch.Size([4, 64, 128])\n",
      "--------\n",
      "torch.Size([4, 64, 128])\n",
      "torch.Size([4, 32, 128])\n",
      "torch.Size([4, 64, 128])\n"
     ]
    }
   ],
   "source": [
    "a = torch.randn(4,64,128)\n",
    "print(a.shape)\n",
    "a_1 = a[:,:32,:]\n",
    "print(a_1.shape)\n",
    "a_2 = a[:,32:,:]\n",
    "print(a_2.shape) \n",
    "b = torch.cat((a_1,a_2),1)\n",
    "print(b.shape)\n",
    "\n",
    "print('--------')\n",
    "a = torch.randn(4,64,128)\n",
    "print(a.shape)\n",
    "b = torch.chunk(a,2,1)\n",
    "print(b[0].shape)\n",
    "c = torch.cat((b[0],b[1]),1)\n",
    "print(c.shape) \n",
    "\n"
   ]
  },
  {
   "cell_type": "code",
   "execution_count": 23,
   "id": "b69ec614-493b-406f-a71f-9800bbf88783",
   "metadata": {},
   "outputs": [],
   "source": [
    "# Ex2: You have two matrices of dimension: 4x256x4 and 4x16x64 \n",
    "# concatenate them toghether to form a single matrix\n",
    "# of dimension 4x64x32"
   ]
  },
  {
   "cell_type": "code",
   "execution_count": 24,
   "id": "326dbf10",
   "metadata": {},
   "outputs": [
    {
     "name": "stdout",
     "output_type": "stream",
     "text": [
      "torch.Size([4, 16, 64])\n",
      "torch.Size([4, 32, 64])\n",
      "torch.Size([4, 64, 32])\n"
     ]
    }
   ],
   "source": [
    "a = torch.randn(4,256,4)\n",
    "a = a.view(a.size(0),16, 64)\n",
    "print(a.shape)\n",
    "b = torch.randn(4,16,64)\n",
    "c = torch.cat((a,b), dim=1)\n",
    "print(c.size())\n",
    "c = c.view(c.size(0), 64, 32)\n",
    "print(c.size())"
   ]
  },
  {
   "cell_type": "code",
   "execution_count": null,
   "id": "f07e2ed8-e7d7-44b8-a332-c1b63dccc3ca",
   "metadata": {},
   "outputs": [],
   "source": [
    "# Ex3: You have 4 matrixes representing 4 RGB images of dimension 3x128x128.\n",
    "# Create a grid of dimension 3x256x256"
   ]
  },
  {
   "cell_type": "code",
   "execution_count": 25,
   "id": "c9093738",
   "metadata": {},
   "outputs": [
    {
     "name": "stdout",
     "output_type": "stream",
     "text": [
      "torch.Size([3, 256, 128]) torch.Size([3, 256, 128])\n",
      "torch.Size([3, 256, 256])\n"
     ]
    }
   ],
   "source": [
    "a = torch.randint(0, 255, (3,128,128))\n",
    "b = torch.randint(0, 255, (3,128,128))\n",
    "c = torch.randint(0, 255, (3,128,128))\n",
    "d = torch.randint(0, 255, (3,128,128))\n",
    "ab = torch.cat((a,b), dim = 1)\n",
    "cd = torch.cat((c,d), dim = 1)\n",
    "print(ab.size(), cd.size())\n",
    "abcd = torch.cat((ab, cd), dim = 2)\n",
    "print(abcd.size())"
   ]
  }
 ],
 "metadata": {
  "kernelspec": {
   "display_name": "Python 3.10.4 ('pytorch')",
   "language": "python",
   "name": "python3"
  },
  "language_info": {
   "codemirror_mode": {
    "name": "ipython",
    "version": 3
   },
   "file_extension": ".py",
   "mimetype": "text/x-python",
   "name": "python",
   "nbconvert_exporter": "python",
   "pygments_lexer": "ipython3",
   "version": "3.10.4"
  },
  "vscode": {
   "interpreter": {
    "hash": "a1e9190da96085107a48c4c9bd17a4ee4ffa8a340fb86380f1da8fbb80fcc62b"
   }
  }
 },
 "nbformat": 4,
 "nbformat_minor": 5
}
